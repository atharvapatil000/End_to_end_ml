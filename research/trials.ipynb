from box import ConfigBox

d2 = ConfigBox({"key":"value", "key1": "value1"})
print(d2)
print(d2.key1)